{
 "cells": [
  {
   "cell_type": "markdown",
   "id": "6cf9a949",
   "metadata": {
    "papermill": {
     "duration": 0.004869,
     "end_time": "2023-11-08T10:00:20.348343",
     "exception": false,
     "start_time": "2023-11-08T10:00:20.343474",
     "status": "completed"
    },
    "tags": []
   },
   "source": [
    "# Import data and library"
   ]
  },
  {
   "cell_type": "code",
   "execution_count": 1,
   "id": "1899119b",
   "metadata": {
    "_cell_guid": "b1076dfc-b9ad-4769-8c92-a6c4dae69d19",
    "_uuid": "8f2839f25d086af736a60e9eeb907d3b93b6e0e5",
    "execution": {
     "iopub.execute_input": "2023-11-08T10:00:20.362724Z",
     "iopub.status.busy": "2023-11-08T10:00:20.361819Z",
     "iopub.status.idle": "2023-11-08T10:00:20.823321Z",
     "shell.execute_reply": "2023-11-08T10:00:20.822047Z"
    },
    "papermill": {
     "duration": 0.473641,
     "end_time": "2023-11-08T10:00:20.826433",
     "exception": false,
     "start_time": "2023-11-08T10:00:20.352792",
     "status": "completed"
    },
    "tags": []
   },
   "outputs": [
    {
     "name": "stdout",
     "output_type": "stream",
     "text": [
      "/kaggle/input/the-spotify-hit-predictor-dataset/LICENSE\n",
      "/kaggle/input/the-spotify-hit-predictor-dataset/dataset-of-70s.csv\n",
      "/kaggle/input/the-spotify-hit-predictor-dataset/dataset-of-10s.csv\n",
      "/kaggle/input/the-spotify-hit-predictor-dataset/README.txt\n",
      "/kaggle/input/the-spotify-hit-predictor-dataset/dataset-of-60s.csv\n",
      "/kaggle/input/the-spotify-hit-predictor-dataset/dataset-of-80s.csv\n",
      "/kaggle/input/the-spotify-hit-predictor-dataset/dataset-of-00s.csv\n",
      "/kaggle/input/the-spotify-hit-predictor-dataset/dataset-of-90s.csv\n"
     ]
    }
   ],
   "source": [
    "# This Python 3 environment comes with many helpful analytics libraries installed\n",
    "# It is defined by the kaggle/python Docker image: https://github.com/kaggle/docker-python\n",
    "# For example, here's several helpful packages to load\n",
    "\n",
    "import numpy as np # linear algebra\n",
    "import pandas as pd # data processing, CSV file I/O (e.g. pd.read_csv)\n",
    "\n",
    "# Input data files are available in the read-only \"../input/\" directory\n",
    "# For example, running this (by clicking run or pressing Shift+Enter) will list all files under the input directory\n",
    "\n",
    "import os\n",
    "for dirname, _, filenames in os.walk('/kaggle/input'):\n",
    "    for filename in filenames:\n",
    "        print(os.path.join(dirname, filename))\n",
    "\n",
    "# You can write up to 20GB to the current directory (/kaggle/working/) that gets preserved as output when you create a version using \"Save & Run All\" \n",
    "# You can also write temporary files to /kaggle/temp/, but they won't be saved outside of the current session"
   ]
  },
  {
   "cell_type": "code",
   "execution_count": 2,
   "id": "154f5a63",
   "metadata": {
    "execution": {
     "iopub.execute_input": "2023-11-08T10:00:20.838284Z",
     "iopub.status.busy": "2023-11-08T10:00:20.837362Z",
     "iopub.status.idle": "2023-11-08T10:00:33.522459Z",
     "shell.execute_reply": "2023-11-08T10:00:33.521015Z"
    },
    "papermill": {
     "duration": 12.694667,
     "end_time": "2023-11-08T10:00:33.525706",
     "exception": false,
     "start_time": "2023-11-08T10:00:20.831039",
     "status": "completed"
    },
    "tags": []
   },
   "outputs": [
    {
     "name": "stdout",
     "output_type": "stream",
     "text": [
      "X_train shape: (32884, 13)\n",
      "X_test shape: (8222, 13)\n",
      "y_train shape: (32884,)\n",
      "y_test shape: (8222,)\n",
      "      danceability    energy       key  loudness  mode  speechiness  \\\n",
      "2741      0.388664  0.282820  0.818182  0.637017   1.0     0.030126   \n",
      "441       0.470648  0.743936  0.363636  0.764439   0.0     0.070084   \n",
      "4208      0.422065  0.495873  0.181818  0.843576   1.0     0.031904   \n",
      "2518      0.375506  0.999000  0.181818  0.861124   1.0     0.208159   \n",
      "4340      0.609312  0.784946  0.636364  0.813706   1.0     0.060460   \n",
      "...            ...       ...       ...       ...   ...          ...   \n",
      "1941      0.940283  0.338834  0.090909  0.724041   1.0     0.388075   \n",
      "3833      0.631579  0.579895  0.181818  0.761062   1.0     0.029603   \n",
      "5192      0.638664  0.754938  0.636364  0.793385   1.0     0.142259   \n",
      "6300      0.564777  0.817954  0.727273  0.852558   1.0     0.042155   \n",
      "4325      0.557692  0.571893  0.545455  0.792668   1.0     0.034310   \n",
      "\n",
      "      acousticness  instrumentalness  liveness   valence     tempo  \\\n",
      "2741      0.546185          0.000001  0.143353  0.260040  0.325437   \n",
      "441       0.293173          0.000002  0.338370  0.730924  0.796469   \n",
      "4208      0.478916          0.000056  0.371043  0.489960  0.565286   \n",
      "2518      0.000845          0.000004  0.342455  0.036044  0.481657   \n",
      "4340      0.245984          0.000000  0.180110  0.567269  0.348094   \n",
      "...            ...               ...       ...       ...       ...   \n",
      "1941      0.037450          0.000020  0.177047  0.274096  0.410011   \n",
      "3833      0.228916          0.000000  0.114764  0.462851  0.419803   \n",
      "5192      0.007359          0.000000  0.076884  0.440763  0.378497   \n",
      "6300      0.071285          0.000000  0.200531  0.454819  0.335652   \n",
      "4325      0.523092          0.000019  0.073821  0.338353  0.340564   \n",
      "\n",
      "      duration_ms  time_signature  \n",
      "2741     0.046443             0.8  \n",
      "441      0.040101             0.8  \n",
      "4208     0.038575             1.0  \n",
      "2518     0.055977             0.8  \n",
      "4340     0.052434             0.8  \n",
      "...           ...             ...  \n",
      "1941     0.049466             0.8  \n",
      "3833     0.045275             0.8  \n",
      "5192     0.063746             0.8  \n",
      "6300     0.044549             0.8  \n",
      "4325     0.051957             0.8  \n",
      "\n",
      "[32884 rows x 13 columns]\n"
     ]
    }
   ],
   "source": [
    "import numpy as np\n",
    "import pandas as pd\n",
    "from sklearn.model_selection import train_test_split\n",
    "import tensorflow as tf\n",
    "from tensorflow import keras\n",
    "from tensorflow.keras import layers\n",
    "from tensorflow.keras.callbacks import EarlyStopping\n",
    "from sklearn.metrics import f1_score, confusion_matrix, mean_squared_error, precision_score\n",
    "\n",
    "# Liste des fichiers de données pour différentes décennies\n",
    "decades = [\"dataset-of-00s.csv\", \"dataset-of-10s.csv\", \"dataset-of-60s.csv\", \"dataset-of-70s.csv\", \"dataset-of-80s.csv\", \"dataset-of-90s.csv\"]\n",
    "\n",
    "# Charger les données de toutes les décennies et les combiner en un seul DataFrame\n",
    "all_data = pd.concat([pd.read_csv(\"/kaggle/input/the-spotify-hit-predictor-dataset/\" + decade_file) for decade_file in decades])\n",
    "\n",
    "# Diviser les données en caractéristiques (X) et cible (y)\n",
    "X = all_data.drop(columns=[\"track\", \"artist\", \"uri\", \"target\", \"chorus_hit\", \"sections\"])\n",
    "y = all_data[\"target\"]\n",
    "# Diviser les données en ensembles d'entraînement et de test\n",
    "X_train, X_test, y_train, y_test = train_test_split(X, y, test_size=0.2, random_state=1)\n",
    "\n",
    "# Normaliser les caractéristiques (mettre à l'échelle les valeurs entre 0 et 1)\n",
    "X_train = (X_train - X_train.min()) / (X_train.max() - X_train.min())\n",
    "X_test = (X_test - X_test.min()) / (X_test.max() - X_test.min())\n",
    "\n",
    "print(\"X_train shape:\", X_train.shape)\n",
    "print(\"X_test shape:\", X_test.shape)\n",
    "print(\"y_train shape:\", y_train.shape)\n",
    "print(\"y_test shape:\", y_test.shape)\n",
    "\n",
    "print(X_train)\n",
    "\n",
    "\n"
   ]
  },
  {
   "cell_type": "markdown",
   "id": "3f379db8",
   "metadata": {
    "papermill": {
     "duration": 0.004294,
     "end_time": "2023-11-08T10:00:33.534605",
     "exception": false,
     "start_time": "2023-11-08T10:00:33.530311",
     "status": "completed"
    },
    "tags": []
   },
   "source": [
    "# Define and train the model"
   ]
  },
  {
   "cell_type": "code",
   "execution_count": 3,
   "id": "8cc1134f",
   "metadata": {
    "execution": {
     "iopub.execute_input": "2023-11-08T10:00:33.546802Z",
     "iopub.status.busy": "2023-11-08T10:00:33.545514Z",
     "iopub.status.idle": "2023-11-08T10:01:45.986582Z",
     "shell.execute_reply": "2023-11-08T10:01:45.985251Z"
    },
    "papermill": {
     "duration": 72.450397,
     "end_time": "2023-11-08T10:01:45.989672",
     "exception": false,
     "start_time": "2023-11-08T10:00:33.539275",
     "status": "completed"
    },
    "tags": []
   },
   "outputs": [
    {
     "name": "stdout",
     "output_type": "stream",
     "text": [
      "Epoch 1/100\n",
      "1028/1028 [==============================] - 6s 5ms/step - loss: 0.5448 - accuracy: 0.7201 - val_loss: 0.5109 - val_accuracy: 0.7464\n",
      "Epoch 2/100\n",
      "1028/1028 [==============================] - 4s 4ms/step - loss: 0.5169 - accuracy: 0.7404 - val_loss: 0.5135 - val_accuracy: 0.7414\n",
      "Epoch 3/100\n",
      "1028/1028 [==============================] - 4s 4ms/step - loss: 0.5073 - accuracy: 0.7454 - val_loss: 0.5143 - val_accuracy: 0.7440\n",
      "Epoch 4/100\n",
      "1028/1028 [==============================] - 5s 4ms/step - loss: 0.5040 - accuracy: 0.7490 - val_loss: 0.5053 - val_accuracy: 0.7460\n",
      "Epoch 5/100\n",
      "1028/1028 [==============================] - 4s 4ms/step - loss: 0.5006 - accuracy: 0.7523 - val_loss: 0.5031 - val_accuracy: 0.7518\n",
      "Epoch 6/100\n",
      "1028/1028 [==============================] - 5s 4ms/step - loss: 0.4977 - accuracy: 0.7536 - val_loss: 0.5017 - val_accuracy: 0.7536\n",
      "Epoch 7/100\n",
      "1028/1028 [==============================] - 4s 4ms/step - loss: 0.4967 - accuracy: 0.7544 - val_loss: 0.4990 - val_accuracy: 0.7559\n",
      "Epoch 8/100\n",
      "1028/1028 [==============================] - 4s 4ms/step - loss: 0.4934 - accuracy: 0.7571 - val_loss: 0.4926 - val_accuracy: 0.7577\n",
      "Epoch 9/100\n",
      "1028/1028 [==============================] - 4s 4ms/step - loss: 0.4926 - accuracy: 0.7574 - val_loss: 0.4962 - val_accuracy: 0.7570\n",
      "Epoch 10/100\n",
      "1028/1028 [==============================] - 4s 4ms/step - loss: 0.4910 - accuracy: 0.7579 - val_loss: 0.5013 - val_accuracy: 0.7555\n",
      "Epoch 11/100\n",
      "1028/1028 [==============================] - 4s 4ms/step - loss: 0.4926 - accuracy: 0.7574 - val_loss: 0.4888 - val_accuracy: 0.7609\n",
      "Epoch 12/100\n",
      "1028/1028 [==============================] - 4s 4ms/step - loss: 0.4891 - accuracy: 0.7583 - val_loss: 0.4941 - val_accuracy: 0.7615\n",
      "Epoch 13/100\n",
      "1028/1028 [==============================] - 4s 4ms/step - loss: 0.4877 - accuracy: 0.7608 - val_loss: 0.4935 - val_accuracy: 0.7576\n",
      "Epoch 14/100\n",
      "1028/1028 [==============================] - 4s 4ms/step - loss: 0.4883 - accuracy: 0.7602 - val_loss: 0.4908 - val_accuracy: 0.7600\n",
      "Epoch 15/100\n",
      "1028/1028 [==============================] - 4s 4ms/step - loss: 0.4874 - accuracy: 0.7610 - val_loss: 0.4916 - val_accuracy: 0.7609\n",
      "Epoch 16/100\n",
      "1028/1028 [==============================] - 4s 4ms/step - loss: 0.4854 - accuracy: 0.7609 - val_loss: 0.4889 - val_accuracy: 0.7616\n"
     ]
    },
    {
     "data": {
      "text/plain": [
       "<keras.callbacks.History at 0x7ee950261480>"
      ]
     },
     "execution_count": 3,
     "metadata": {},
     "output_type": "execute_result"
    }
   ],
   "source": [
    "# Créer un modèle CNN avec les paramètres actuels\n",
    "model = keras.Sequential([\n",
    "    layers.Reshape((X.shape[1], 1), input_shape=(X.shape[1],)),  # Couche d'entrée\n",
    "    layers.Conv1D(128, kernel_size=3, activation='relu'),  # Couche de convolution\n",
    "    layers.MaxPooling1D(pool_size=2),  # Couche de pooling\n",
    "    layers.Conv1D(32, kernel_size=3, activation='relu'),  # Couche de convolution\n",
    "    layers.MaxPooling1D(pool_size=2),  # Couche de pooling\n",
    "    layers.Flatten(),  # Couche de mise à plat\n",
    "    layers.Dense(32, activation='relu'),  # Couche dense\n",
    "    layers.Dense(1, activation='sigmoid')  # Couche de sortie entre 0 et 1\n",
    "])\n",
    "\n",
    "# Compiler le modèle\n",
    "model.compile(optimizer='adam', loss='binary_crossentropy', metrics=['accuracy'])\n",
    "\n",
    "# Ajouter Early Stopping\n",
    "early_stopping = EarlyStopping(monitor='val_loss', patience=5, restore_best_weights=True)\n",
    "\n",
    "# Entraîner le modèle avec Early Stopping\n",
    "model.fit(X_train, y_train, epochs=100, batch_size=32, validation_data=(X_test, y_test), callbacks=[early_stopping])"
   ]
  },
  {
   "cell_type": "markdown",
   "id": "30472e50",
   "metadata": {
    "papermill": {
     "duration": 0.209693,
     "end_time": "2023-11-08T10:01:46.317670",
     "exception": false,
     "start_time": "2023-11-08T10:01:46.107977",
     "status": "completed"
    },
    "tags": []
   },
   "source": [
    "# Test the model"
   ]
  },
  {
   "cell_type": "code",
   "execution_count": 4,
   "id": "e707b189",
   "metadata": {
    "execution": {
     "iopub.execute_input": "2023-11-08T10:01:46.551222Z",
     "iopub.status.busy": "2023-11-08T10:01:46.550711Z",
     "iopub.status.idle": "2023-11-08T10:01:48.006500Z",
     "shell.execute_reply": "2023-11-08T10:01:48.004878Z"
    },
    "papermill": {
     "duration": 1.57663,
     "end_time": "2023-11-08T10:01:48.009531",
     "exception": false,
     "start_time": "2023-11-08T10:01:46.432901",
     "status": "completed"
    },
    "tags": []
   },
   "outputs": [
    {
     "name": "stdout",
     "output_type": "stream",
     "text": [
      "257/257 [==============================] - 1s 2ms/step - loss: 0.4888 - accuracy: 0.7609\n",
      "Test Accuracy = 0.7608854174613953\n",
      "257/257 [==============================] - 1s 2ms/step\n",
      "F1-Score = 0.7779534673593856\n",
      "Confusion Matrix = \n",
      "[[2812 1251]\n",
      " [ 715 3444]]\n",
      "Mean Squared Error (MSE) = 0.16205317386084728\n",
      "Precision = 0.7335463258785943 \n"
     ]
    }
   ],
   "source": [
    "# Évaluer le modèle sur les données de test\n",
    "test_loss, test_accuracy = model.evaluate(X_test, y_test)\n",
    "print(f\"Test Accuracy = {test_accuracy}\")\n",
    "\n",
    "# Prédire les étiquettes\n",
    "predictions = model.predict(X_test)\n",
    "threshold = 0.5  # Vous pouvez ajuster ce seuil au besoin\n",
    "\n",
    "# Classification binaire basée sur le seuil\n",
    "predicted_labels = (predictions > threshold).astype(int)\n",
    "\n",
    "# Calculer le F1-score\n",
    "f1 = f1_score(y_test, predicted_labels)\n",
    "print(f\"F1-Score = {f1}\")\n",
    "\n",
    "# Calculer la matrice de confusion\n",
    "conf_matrix = confusion_matrix(y_test, predicted_labels)\n",
    "print(\"Confusion Matrix = \")\n",
    "print(conf_matrix)\n",
    "\n",
    "# Calculer le Mean Squared Error (MSE)\n",
    "mse = mean_squared_error(y_test, predictions)\n",
    "print(f\"Mean Squared Error (MSE) = {mse}\")\n",
    "\n",
    "# Calculer la précision\n",
    "precision = precision_score(y_test, predicted_labels)\n",
    "print(f\"Precision = {precision} \")"
   ]
  },
  {
   "cell_type": "markdown",
   "id": "d2a80474",
   "metadata": {
    "papermill": {
     "duration": 0.120222,
     "end_time": "2023-11-08T10:01:48.249277",
     "exception": false,
     "start_time": "2023-11-08T10:01:48.129055",
     "status": "completed"
    },
    "tags": []
   },
   "source": [
    "# Test with 1 song"
   ]
  },
  {
   "cell_type": "code",
   "execution_count": 5,
   "id": "011061b2",
   "metadata": {
    "execution": {
     "iopub.execute_input": "2023-11-08T10:01:48.493777Z",
     "iopub.status.busy": "2023-11-08T10:01:48.493329Z",
     "iopub.status.idle": "2023-11-08T10:01:48.584954Z",
     "shell.execute_reply": "2023-11-08T10:01:48.583503Z"
    },
    "papermill": {
     "duration": 0.218351,
     "end_time": "2023-11-08T10:01:48.587361",
     "exception": false,
     "start_time": "2023-11-08T10:01:48.369010",
     "status": "completed"
    },
    "tags": []
   },
   "outputs": [
    {
     "name": "stdout",
     "output_type": "stream",
     "text": [
      "X_test[:1] =       danceability    energy       key  loudness  mode  speechiness  \\\n",
      "3690      0.149608  0.046626  0.727273  0.323468   0.0     0.022936   \n",
      "\n",
      "      acousticness  instrumentalness  liveness   valence     tempo  \\\n",
      "3690      0.995984          0.861862  0.075862  0.128153  0.494759   \n",
      "\n",
      "      duration_ms  time_signature  \n",
      "3690     0.017733             0.5  \n",
      "Generate a prediction\n",
      "1/1 [==============================] - 0s 22ms/step\n",
      "prediction shape: [[0.00350052]]\n"
     ]
    }
   ],
   "source": [
    "print(f\"X_test[:1] = {X_test[:1]}\")\n",
    "\n",
    "print(\"Generate a prediction\")\n",
    "prediction = model.predict(X_test[:1])\n",
    "print(\"prediction shape:\", prediction)"
   ]
  },
  {
   "cell_type": "code",
   "execution_count": 6,
   "id": "24d329e4",
   "metadata": {
    "execution": {
     "iopub.execute_input": "2023-11-08T10:01:48.829690Z",
     "iopub.status.busy": "2023-11-08T10:01:48.829207Z",
     "iopub.status.idle": "2023-11-08T10:01:48.950686Z",
     "shell.execute_reply": "2023-11-08T10:01:48.949360Z"
    },
    "papermill": {
     "duration": 0.246772,
     "end_time": "2023-11-08T10:01:48.953370",
     "exception": false,
     "start_time": "2023-11-08T10:01:48.706598",
     "status": "completed"
    },
    "tags": []
   },
   "outputs": [
    {
     "name": "stdout",
     "output_type": "stream",
     "text": [
      "   danceability  energy  key  loudness  mode  speechiness  acousticness  \\\n",
      "0         0.655   0.797    2     4.787     1        0.153         0.198   \n",
      "\n",
      "   instrumentalness  liveness  valence    tempo            type  \\\n",
      "0                 0     0.067    0.839  177.928  audio_features   \n",
      "\n",
      "                       id                                   uri  \\\n",
      "0  6habFhsOp2NvshLv26DqMb  spotify:track:6habFhsOp2NvshLv26DqMb   \n",
      "\n",
      "                                          track_href  \\\n",
      "0  https://api.spotify.com/v1/tracks/6habFhsOp2Nv...   \n",
      "\n",
      "                                        analysis_url  duration_ms  \\\n",
      "0  https://api.spotify.com/v1/audio-analysis/6hab...       229360   \n",
      "\n",
      "   time_signature  \n",
      "0               4  \n",
      "X =        track             artist                                   uri  \\\n",
      "0  Lucky Man  Montgomery Gentry  spotify:track:4GiXBCUF7H6YfNQsnBRIzl   \n",
      "\n",
      "   danceability  energy  key  loudness  mode  speechiness  acousticness  \\\n",
      "0         0.578   0.471    4     -7.27     1       0.0289         0.368   \n",
      "\n",
      "   instrumentalness  liveness  valence    tempo  duration_ms  time_signature  \\\n",
      "0               0.0     0.159    0.532  133.061       196707               4   \n",
      "\n",
      "   chorus_hit  sections  target  \n",
      "0    30.88059        13       1   \n",
      "\n",
      "X =    danceability  energy  key  loudness  mode  speechiness  acousticness  \\\n",
      "0         0.578   0.471    4     -7.27     1       0.0289         0.368   \n",
      "\n",
      "   instrumentalness  liveness  valence    tempo  duration_ms  time_signature  \\\n",
      "0               0.0     0.159    0.532  133.061       196707               4   \n",
      "\n",
      "   chorus_hit  sections  \n",
      "0    30.88059        13   \n",
      "\n",
      "despasito =    danceability  energy  key  loudness  mode  speechiness  acousticness  \\\n",
      "0         0.655   0.797    2     4.787     1        0.153         0.198   \n",
      "\n",
      "   instrumentalness  liveness  valence    tempo  duration_ms  time_signature  \n",
      "0                 0     0.067    0.839  177.928       229360               4  \n",
      "Generate a prediction\n",
      "1/1 [==============================] - 0s 24ms/step\n",
      "prediction: [[0.9996954]]\n",
      "It's a hit !\n"
     ]
    }
   ],
   "source": [
    "# Despasito from https://developer.spotify.com/documentation/web-api/reference/get-audio-features\n",
    "\n",
    "data = {\n",
    "  \"danceability\": 0.655,\n",
    "  \"energy\": 0.797,\n",
    "  \"key\": 2,\n",
    "  \"loudness\": 4.787,\n",
    "  \"mode\": 1,\n",
    "  \"speechiness\": 0.153,\n",
    "  \"acousticness\": 0.198,\n",
    "  \"instrumentalness\": 0,\n",
    "  \"liveness\": 0.067,\n",
    "  \"valence\": 0.839,\n",
    "  \"tempo\": 177.928,\n",
    "  \"type\": \"audio_features\",\n",
    "  \"id\": \"6habFhsOp2NvshLv26DqMb\",\n",
    "  \"uri\": \"spotify:track:6habFhsOp2NvshLv26DqMb\",\n",
    "  \"track_href\": \"https://api.spotify.com/v1/tracks/6habFhsOp2NvshLv26DqMb\",\n",
    "  \"analysis_url\": \"https://api.spotify.com/v1/audio-analysis/6habFhsOp2NvshLv26DqMb\",\n",
    "  \"duration_ms\": 229360,\n",
    "  \"time_signature\": 4\n",
    "}\n",
    "\n",
    "df = pd.DataFrame(data, index=[0])\n",
    "\n",
    "print(df)\n",
    "\n",
    "X = all_data[:1]\n",
    "print(f\"X = {X} \\n\")\n",
    "X = X.drop(columns=[\"track\", \"artist\", \"uri\", \"target\"])\n",
    "print(f\"X = {X} \\n\")\n",
    "\n",
    "\n",
    "despasito = df.drop(columns=[\"type\", \"id\", \"uri\", \"track_href\", \"analysis_url\"])\n",
    "print(f\"despasito = {despasito}\")\n",
    "\n",
    "\n",
    "\n",
    "print(\"Generate a prediction\")\n",
    "prediction = model.predict(despasito)\n",
    "print(\"prediction:\", prediction)\n",
    "\n",
    "if prediction > 0.5:\n",
    "    print(\"It's a hit !\")"
   ]
  }
 ],
 "metadata": {
  "kernelspec": {
   "display_name": "Python 3",
   "language": "python",
   "name": "python3"
  },
  "language_info": {
   "codemirror_mode": {
    "name": "ipython",
    "version": 3
   },
   "file_extension": ".py",
   "mimetype": "text/x-python",
   "name": "python",
   "nbconvert_exporter": "python",
   "pygments_lexer": "ipython3",
   "version": "3.10.12"
  },
  "papermill": {
   "default_parameters": {},
   "duration": 94.606943,
   "end_time": "2023-11-08T10:01:50.904423",
   "environment_variables": {},
   "exception": null,
   "input_path": "__notebook__.ipynb",
   "output_path": "__notebook__.ipynb",
   "parameters": {},
   "start_time": "2023-11-08T10:00:16.297480",
   "version": "2.4.0"
  }
 },
 "nbformat": 4,
 "nbformat_minor": 5
}
